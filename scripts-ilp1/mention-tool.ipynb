{
 "cells": [
  {
   "cell_type": "code",
   "execution_count": 1,
   "metadata": {},
   "outputs": [],
   "source": [
    "base_path = '/data/hiwi/lukas/IRT2-LLM-Prompter/data/irt2/irt2-cde-'\n",
    "\n",
    "for path in ('tiny','small','medium','large'):\n",
    "    try:\n",
    "        input_path = base_path + path + '/mentions-original.txt'\n",
    "        output_path = base_path + path + '/mentions.txt'\n",
    "        \n",
    "        stopword_path = '/data/hiwi/lukas/IRT2-LLM-Prompter/conf/stopwords/stopwords01.txt'\n",
    "\n",
    "        with open(input_path, 'r', encoding='utf-8') as input_file:\n",
    "            with open(output_path, 'w', encoding='utf-8') as output_file:\n",
    "                with open(stopword_path, 'r', encoding='utf-8') as stopword_file:\n",
    "                    stopwords = stopword_file.read().split(', ')\n",
    "                    \n",
    "                    output_content = ''\n",
    "\n",
    "                    content = input_file.read()\n",
    "                    lines = content.split('\\n')\n",
    "\n",
    "                    output_content += lines[0]+'\\n'+lines[1]+'\\n'\n",
    "\n",
    "                    for line in lines[2:-1]:\n",
    "\n",
    "                        parts = line.split('|')\n",
    "                        output_content += parts[0]+\"|\"\n",
    "\n",
    "                        if len(parts) != 2:\n",
    "                            exit\n",
    "\n",
    "                        mention = parts[1]\n",
    "\n",
    "                        mention = str.lower(mention)\n",
    "                        for stopword in stopwords:\n",
    "                            mention = mention.replace(' '+stopword+' ',' ')\n",
    "                            mention = mention.removeprefix(stopword+' ')\n",
    "                            mention = mention.removesuffix(' '+stopword)\n",
    "                        mention = mention.strip()\n",
    "\n",
    "                        output_content += mention+'\\n'\n",
    "\n",
    "                    output_file.write(output_content)\n",
    "                    \n",
    "\n",
    "    except FileNotFoundError:\n",
    "        print(f'Die Datei {file_path} wurde nicht gefunden.')"
   ]
  },
  {
   "cell_type": "code",
   "execution_count": 63,
   "metadata": {},
   "outputs": [
    {
     "name": "stdout",
     "output_type": "stream",
     "text": [
      "['the', 'of', 'a']\n",
      "the\n",
      "of\n",
      "a\n",
      "the\n",
      "of\n",
      "a\n",
      "1|test\n",
      "2|test\n",
      "\n"
     ]
    }
   ],
   "source": [
    "with open(stopword_path, 'r', encoding='utf-8') as stopword_file:\n",
    "    stopwords = stopword_file.read().split(', ')\n",
    "    \n",
    "    print(stopwords)\n",
    "\n",
    "    output_content = ''\n",
    "\n",
    "    content = '1|Test\\n2|the test a the a'\n",
    "    lines = content.split('\\n')\n",
    "\n",
    "    for line in lines:\n",
    "        parts = line.split('|')\n",
    "        output_content += parts[0]+\"|\"\n",
    "\n",
    "        mention = parts[1]\n",
    "\n",
    "        mention = str.lower(mention)\n",
    "        for stopword in stopwords:\n",
    "            print(stopword)\n",
    "            mention = mention.replace(' '+stopword+' ',' ')\n",
    "            mention = mention.removeprefix(stopword+' ')\n",
    "            mention = mention.removesuffix(' '+stopword)\n",
    "        mention = mention.strip()\n",
    "\n",
    "        output_content += mention+'\\n'\n",
    "\n",
    "    # output_file.write(output_content)\n",
    "\n",
    "    print(output_content)"
   ]
  }
 ],
 "metadata": {
  "kernelspec": {
   "display_name": "irt2-llm-prompter-ASM02cJq-py3.11",
   "language": "python",
   "name": "python3"
  },
  "language_info": {
   "codemirror_mode": {
    "name": "ipython",
    "version": 3
   },
   "file_extension": ".py",
   "mimetype": "text/x-python",
   "name": "python",
   "nbconvert_exporter": "python",
   "pygments_lexer": "ipython3",
   "version": "3.11.2"
  }
 },
 "nbformat": 4,
 "nbformat_minor": 2
}
